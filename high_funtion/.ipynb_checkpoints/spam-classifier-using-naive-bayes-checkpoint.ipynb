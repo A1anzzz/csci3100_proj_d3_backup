{
 "cells": [
  {
   "cell_type": "markdown",
   "metadata": {},
   "source": [
    "## The SMS Spam Collection is a set of SMS tagged messages that have been collected for SMS Spam research. It contains one set of SMS messages in English of 5,574 messages, tagged acording being ham (legitimate) or spam."
   ]
  },
  {
   "cell_type": "code",
   "execution_count": 1,
   "metadata": {
    "execution": {
     "iopub.execute_input": "2022-03-28T20:15:06.731523Z",
     "iopub.status.busy": "2022-03-28T20:15:06.731206Z",
     "iopub.status.idle": "2022-03-28T20:15:06.736207Z",
     "shell.execute_reply": "2022-03-28T20:15:06.735524Z",
     "shell.execute_reply.started": "2022-03-28T20:15:06.731489Z"
    }
   },
   "outputs": [],
   "source": [
    "#loading the dataset\n",
    "import pandas as pd\n"
   ]
  },
  {
   "cell_type": "code",
   "execution_count": 4,
   "metadata": {},
   "outputs": [],
   "source": [
    "df = pd.read_csv(\"/Users/yudi/Desktop/sample/high_funtion/spam.csv\", encoding = 'latin-1')"
   ]
  },
  {
   "cell_type": "code",
   "execution_count": 5,
   "metadata": {},
   "outputs": [
    {
     "data": {
      "text/html": [
       "<div>\n",
       "<style scoped>\n",
       "    .dataframe tbody tr th:only-of-type {\n",
       "        vertical-align: middle;\n",
       "    }\n",
       "\n",
       "    .dataframe tbody tr th {\n",
       "        vertical-align: top;\n",
       "    }\n",
       "\n",
       "    .dataframe thead th {\n",
       "        text-align: right;\n",
       "    }\n",
       "</style>\n",
       "<table border=\"1\" class=\"dataframe\">\n",
       "  <thead>\n",
       "    <tr style=\"text-align: right;\">\n",
       "      <th></th>\n",
       "      <th>v1</th>\n",
       "      <th>v2</th>\n",
       "      <th>Unnamed: 2</th>\n",
       "      <th>Unnamed: 3</th>\n",
       "      <th>Unnamed: 4</th>\n",
       "    </tr>\n",
       "  </thead>\n",
       "  <tbody>\n",
       "    <tr>\n",
       "      <th>0</th>\n",
       "      <td>ham</td>\n",
       "      <td>Go until jurong point, crazy.. Available only ...</td>\n",
       "      <td>NaN</td>\n",
       "      <td>NaN</td>\n",
       "      <td>NaN</td>\n",
       "    </tr>\n",
       "    <tr>\n",
       "      <th>1</th>\n",
       "      <td>ham</td>\n",
       "      <td>Ok lar... Joking wif u oni...</td>\n",
       "      <td>NaN</td>\n",
       "      <td>NaN</td>\n",
       "      <td>NaN</td>\n",
       "    </tr>\n",
       "    <tr>\n",
       "      <th>2</th>\n",
       "      <td>spam</td>\n",
       "      <td>Free entry in 2 a wkly comp to win FA Cup fina...</td>\n",
       "      <td>NaN</td>\n",
       "      <td>NaN</td>\n",
       "      <td>NaN</td>\n",
       "    </tr>\n",
       "    <tr>\n",
       "      <th>3</th>\n",
       "      <td>ham</td>\n",
       "      <td>U dun say so early hor... U c already then say...</td>\n",
       "      <td>NaN</td>\n",
       "      <td>NaN</td>\n",
       "      <td>NaN</td>\n",
       "    </tr>\n",
       "    <tr>\n",
       "      <th>4</th>\n",
       "      <td>ham</td>\n",
       "      <td>Nah I don't think he goes to usf, he lives aro...</td>\n",
       "      <td>NaN</td>\n",
       "      <td>NaN</td>\n",
       "      <td>NaN</td>\n",
       "    </tr>\n",
       "    <tr>\n",
       "      <th>...</th>\n",
       "      <td>...</td>\n",
       "      <td>...</td>\n",
       "      <td>...</td>\n",
       "      <td>...</td>\n",
       "      <td>...</td>\n",
       "    </tr>\n",
       "    <tr>\n",
       "      <th>5567</th>\n",
       "      <td>spam</td>\n",
       "      <td>This is the 2nd time we have tried 2 contact u...</td>\n",
       "      <td>NaN</td>\n",
       "      <td>NaN</td>\n",
       "      <td>NaN</td>\n",
       "    </tr>\n",
       "    <tr>\n",
       "      <th>5568</th>\n",
       "      <td>ham</td>\n",
       "      <td>Will Ì_ b going to esplanade fr home?</td>\n",
       "      <td>NaN</td>\n",
       "      <td>NaN</td>\n",
       "      <td>NaN</td>\n",
       "    </tr>\n",
       "    <tr>\n",
       "      <th>5569</th>\n",
       "      <td>ham</td>\n",
       "      <td>Pity, * was in mood for that. So...any other s...</td>\n",
       "      <td>NaN</td>\n",
       "      <td>NaN</td>\n",
       "      <td>NaN</td>\n",
       "    </tr>\n",
       "    <tr>\n",
       "      <th>5570</th>\n",
       "      <td>ham</td>\n",
       "      <td>The guy did some bitching but I acted like i'd...</td>\n",
       "      <td>NaN</td>\n",
       "      <td>NaN</td>\n",
       "      <td>NaN</td>\n",
       "    </tr>\n",
       "    <tr>\n",
       "      <th>5571</th>\n",
       "      <td>ham</td>\n",
       "      <td>Rofl. Its true to its name</td>\n",
       "      <td>NaN</td>\n",
       "      <td>NaN</td>\n",
       "      <td>NaN</td>\n",
       "    </tr>\n",
       "  </tbody>\n",
       "</table>\n",
       "<p>5572 rows × 5 columns</p>\n",
       "</div>"
      ],
      "text/plain": [
       "        v1                                                 v2 Unnamed: 2  \\\n",
       "0      ham  Go until jurong point, crazy.. Available only ...        NaN   \n",
       "1      ham                      Ok lar... Joking wif u oni...        NaN   \n",
       "2     spam  Free entry in 2 a wkly comp to win FA Cup fina...        NaN   \n",
       "3      ham  U dun say so early hor... U c already then say...        NaN   \n",
       "4      ham  Nah I don't think he goes to usf, he lives aro...        NaN   \n",
       "...    ...                                                ...        ...   \n",
       "5567  spam  This is the 2nd time we have tried 2 contact u...        NaN   \n",
       "5568   ham              Will Ì_ b going to esplanade fr home?        NaN   \n",
       "5569   ham  Pity, * was in mood for that. So...any other s...        NaN   \n",
       "5570   ham  The guy did some bitching but I acted like i'd...        NaN   \n",
       "5571   ham                         Rofl. Its true to its name        NaN   \n",
       "\n",
       "     Unnamed: 3 Unnamed: 4  \n",
       "0           NaN        NaN  \n",
       "1           NaN        NaN  \n",
       "2           NaN        NaN  \n",
       "3           NaN        NaN  \n",
       "4           NaN        NaN  \n",
       "...         ...        ...  \n",
       "5567        NaN        NaN  \n",
       "5568        NaN        NaN  \n",
       "5569        NaN        NaN  \n",
       "5570        NaN        NaN  \n",
       "5571        NaN        NaN  \n",
       "\n",
       "[5572 rows x 5 columns]"
      ]
     },
     "execution_count": 5,
     "metadata": {},
     "output_type": "execute_result"
    }
   ],
   "source": [
    "df"
   ]
  },
  {
   "cell_type": "code",
   "execution_count": null,
   "metadata": {
    "execution": {
     "iopub.execute_input": "2022-03-28T20:15:06.751027Z",
     "iopub.status.busy": "2022-03-28T20:15:06.750545Z",
     "iopub.status.idle": "2022-03-28T20:15:06.786595Z",
     "shell.execute_reply": "2022-03-28T20:15:06.785698Z",
     "shell.execute_reply.started": "2022-03-28T20:15:06.750986Z"
    }
   },
   "outputs": [],
   "source": [
    "df = pd.read_csv(\"../spam.csv\", encoding = 'latin-1')\n",
    "df.drop(df.columns[[2,3,4]], axis = 1, inplace = True)\n",
    "df.columns = ['target','message']\n",
    "df.head()\n"
   ]
  },
  {
   "cell_type": "markdown",
   "metadata": {},
   "source": [
    "## Importing Libraries"
   ]
  },
  {
   "cell_type": "code",
   "execution_count": null,
   "metadata": {
    "execution": {
     "iopub.execute_input": "2022-03-28T20:15:06.788268Z",
     "iopub.status.busy": "2022-03-28T20:15:06.787983Z",
     "iopub.status.idle": "2022-03-28T20:15:06.793578Z",
     "shell.execute_reply": "2022-03-28T20:15:06.792885Z",
     "shell.execute_reply.started": "2022-03-28T20:15:06.788238Z"
    }
   },
   "outputs": [],
   "source": [
    "import re\n",
    "import nltk\n",
    "nltk.download('stopwords')\n",
    "from nltk.corpus import stopwords\n",
    "from nltk.stem.porter import PorterStemmer"
   ]
  },
  {
   "cell_type": "markdown",
   "metadata": {},
   "source": [
    "### Data Cleaning and data preprocessing"
   ]
  },
  {
   "cell_type": "code",
   "execution_count": null,
   "metadata": {
    "execution": {
     "iopub.execute_input": "2022-03-28T20:15:06.794914Z",
     "iopub.status.busy": "2022-03-28T20:15:06.794664Z",
     "iopub.status.idle": "2022-03-28T20:15:06.807488Z",
     "shell.execute_reply": "2022-03-28T20:15:06.806491Z",
     "shell.execute_reply.started": "2022-03-28T20:15:06.794883Z"
    }
   },
   "outputs": [],
   "source": [
    "ps = PorterStemmer()\n",
    "corpus = []"
   ]
  },
  {
   "cell_type": "code",
   "execution_count": null,
   "metadata": {
    "execution": {
     "iopub.execute_input": "2022-03-28T20:15:19.756352Z",
     "iopub.status.busy": "2022-03-28T20:15:19.756065Z",
     "iopub.status.idle": "2022-03-28T20:15:33.072461Z",
     "shell.execute_reply": "2022-03-28T20:15:33.071417Z",
     "shell.execute_reply.started": "2022-03-28T20:15:19.756321Z"
    }
   },
   "outputs": [],
   "source": [
    "for i in range(0, len(df)):\n",
    "    review = re.sub('[^a-zA-Z]', ' ', df['message'][i])\n",
    "    review = review.lower()\n",
    "    review = review.split()\n",
    "    \n",
    "    review = [ps.stem(word) for word in review if not word in stopwords.words('english')]\n",
    "    review = ' '.join(review)\n",
    "    corpus.append(review)      \n",
    "    "
   ]
  },
  {
   "cell_type": "markdown",
   "metadata": {},
   "source": [
    "## Converting data into Bag of Words"
   ]
  },
  {
   "cell_type": "code",
   "execution_count": null,
   "metadata": {
    "execution": {
     "iopub.execute_input": "2022-03-28T20:28:22.049785Z",
     "iopub.status.busy": "2022-03-28T20:28:22.049498Z",
     "iopub.status.idle": "2022-03-28T20:28:22.054106Z",
     "shell.execute_reply": "2022-03-28T20:28:22.053346Z",
     "shell.execute_reply.started": "2022-03-28T20:28:22.049755Z"
    }
   },
   "outputs": [],
   "source": [
    "from sklearn.feature_extraction.text import CountVectorizer\n"
   ]
  },
  {
   "cell_type": "code",
   "execution_count": null,
   "metadata": {
    "execution": {
     "iopub.execute_input": "2022-03-28T20:32:33.12113Z",
     "iopub.status.busy": "2022-03-28T20:32:33.120815Z",
     "iopub.status.idle": "2022-03-28T20:32:33.382391Z",
     "shell.execute_reply": "2022-03-28T20:32:33.381643Z",
     "shell.execute_reply.started": "2022-03-28T20:32:33.121098Z"
    }
   },
   "outputs": [],
   "source": [
    "cv = CountVectorizer(max_features=5000)\n",
    "x = cv.fit_transform(corpus).toarray()"
   ]
  },
  {
   "cell_type": "code",
   "execution_count": null,
   "metadata": {
    "execution": {
     "iopub.execute_input": "2022-03-28T20:39:23.301599Z",
     "iopub.status.busy": "2022-03-28T20:39:23.301173Z",
     "iopub.status.idle": "2022-03-28T20:39:23.309212Z",
     "shell.execute_reply": "2022-03-28T20:39:23.308555Z",
     "shell.execute_reply.started": "2022-03-28T20:39:23.301569Z"
    }
   },
   "outputs": [],
   "source": [
    "y = pd.get_dummies(df['target'])\n",
    "y = y.iloc[:,1].values\n",
    "#spam values are specified as 1 , Ham values are specified as 0"
   ]
  },
  {
   "cell_type": "markdown",
   "metadata": {},
   "source": [
    "# Train Test Split"
   ]
  },
  {
   "cell_type": "code",
   "execution_count": null,
   "metadata": {
    "execution": {
     "iopub.execute_input": "2022-03-28T20:42:53.854087Z",
     "iopub.status.busy": "2022-03-28T20:42:53.853759Z",
     "iopub.status.idle": "2022-03-28T20:42:54.051577Z",
     "shell.execute_reply": "2022-03-28T20:42:54.050627Z",
     "shell.execute_reply.started": "2022-03-28T20:42:53.854051Z"
    }
   },
   "outputs": [],
   "source": [
    "from sklearn.model_selection import train_test_split\n",
    "x_train,x_test,y_train,y_test = train_test_split(x,y ,test_size=0.6,random_state=0)"
   ]
  },
  {
   "cell_type": "markdown",
   "metadata": {},
   "source": [
    "## Training The Model"
   ]
  },
  {
   "cell_type": "code",
   "execution_count": null,
   "metadata": {
    "execution": {
     "iopub.execute_input": "2022-03-28T20:48:04.087919Z",
     "iopub.status.busy": "2022-03-28T20:48:04.087367Z",
     "iopub.status.idle": "2022-03-28T20:48:04.170807Z",
     "shell.execute_reply": "2022-03-28T20:48:04.169748Z",
     "shell.execute_reply.started": "2022-03-28T20:48:04.087878Z"
    }
   },
   "outputs": [],
   "source": [
    "from sklearn.naive_bayes import MultinomialNB\n",
    "spam_detect_model = MultinomialNB().fit(x_train,y_train)"
   ]
  },
  {
   "cell_type": "code",
   "execution_count": null,
   "metadata": {
    "execution": {
     "iopub.execute_input": "2022-03-28T20:48:59.792541Z",
     "iopub.status.busy": "2022-03-28T20:48:59.792246Z",
     "iopub.status.idle": "2022-03-28T20:48:59.885824Z",
     "shell.execute_reply": "2022-03-28T20:48:59.884373Z",
     "shell.execute_reply.started": "2022-03-28T20:48:59.792513Z"
    }
   },
   "outputs": [],
   "source": [
    "y_pred = spam_detect_model.predict(x_test)"
   ]
  },
  {
   "cell_type": "markdown",
   "metadata": {},
   "source": [
    "# measusing the accuracy"
   ]
  },
  {
   "cell_type": "code",
   "execution_count": null,
   "metadata": {
    "execution": {
     "iopub.execute_input": "2022-03-28T20:52:55.699684Z",
     "iopub.status.busy": "2022-03-28T20:52:55.699054Z",
     "iopub.status.idle": "2022-03-28T20:52:55.703329Z",
     "shell.execute_reply": "2022-03-28T20:52:55.702788Z",
     "shell.execute_reply.started": "2022-03-28T20:52:55.699646Z"
    }
   },
   "outputs": [],
   "source": [
    "from sklearn import metrics"
   ]
  },
  {
   "cell_type": "code",
   "execution_count": null,
   "metadata": {
    "execution": {
     "iopub.execute_input": "2022-03-28T20:53:33.156214Z",
     "iopub.status.busy": "2022-03-28T20:53:33.155415Z",
     "iopub.status.idle": "2022-03-28T20:53:33.161621Z",
     "shell.execute_reply": "2022-03-28T20:53:33.161095Z",
     "shell.execute_reply.started": "2022-03-28T20:53:33.15617Z"
    }
   },
   "outputs": [],
   "source": [
    "print(\"accuracy: \",metrics.accuracy_score(y_test,y_pred=y_pred))"
   ]
  },
  {
   "cell_type": "code",
   "execution_count": null,
   "metadata": {
    "execution": {
     "iopub.execute_input": "2022-03-28T20:54:28.689241Z",
     "iopub.status.busy": "2022-03-28T20:54:28.688361Z",
     "iopub.status.idle": "2022-03-28T20:54:28.693883Z",
     "shell.execute_reply": "2022-03-28T20:54:28.693235Z",
     "shell.execute_reply.started": "2022-03-28T20:54:28.689198Z"
    }
   },
   "outputs": [],
   "source": [
    "#confusion matrix\n",
    "from sklearn.metrics import confusion_matrix"
   ]
  },
  {
   "cell_type": "code",
   "execution_count": null,
   "metadata": {
    "execution": {
     "iopub.execute_input": "2022-03-28T20:56:06.729781Z",
     "iopub.status.busy": "2022-03-28T20:56:06.728751Z",
     "iopub.status.idle": "2022-03-28T20:56:06.738049Z",
     "shell.execute_reply": "2022-03-28T20:56:06.737159Z",
     "shell.execute_reply.started": "2022-03-28T20:56:06.729728Z"
    }
   },
   "outputs": [],
   "source": [
    "cm = confusion_matrix(y_test,y_pred)\n",
    "print(cm)"
   ]
  }
 ],
 "metadata": {
  "kernelspec": {
   "display_name": "Python 3 (ipykernel)",
   "language": "python",
   "name": "python3"
  },
  "language_info": {
   "codemirror_mode": {
    "name": "ipython",
    "version": 3
   },
   "file_extension": ".py",
   "mimetype": "text/x-python",
   "name": "python",
   "nbconvert_exporter": "python",
   "pygments_lexer": "ipython3",
   "version": "3.9.7"
  }
 },
 "nbformat": 4,
 "nbformat_minor": 4
}
